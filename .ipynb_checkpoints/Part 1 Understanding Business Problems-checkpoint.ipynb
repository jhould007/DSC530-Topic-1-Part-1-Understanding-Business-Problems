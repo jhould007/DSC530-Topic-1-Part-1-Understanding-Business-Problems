{
 "cells": [
  {
   "cell_type": "markdown",
   "id": "00abe812",
   "metadata": {},
   "source": [
    "# Part 1: Understanding Business Problems\n",
    "By Josh Houlding\n",
    "\n",
    "The most important part of creating a machine learning model is having sound business knowledge of the problem you're trying to solve. In 500-750 words, complete the following:"
   ]
  },
  {
   "cell_type": "markdown",
   "id": "3c05e321",
   "metadata": {},
   "source": [
    "<b>1. Formulate a prediction and an inferential question that you want to answer by applying predictive modeling. Ex: Prediction Question: How accurately and how far into the future can I predict the price of a house given the values of all the variables. Inferential Question: How accurately can I estimate the effect of each variable on the house price?</b>\n",
    "\n",
    "After brainstorming some ideas for questions that could be answered with predictive modeling, I settled on prediction of stock prices for a particular company given their historical stock prices and other relevant financial metrics. \n",
    "\n",
    "<span style=\"color:blue\">Prediction question:</span> How accurately can the future stock prices of a particular company be predicted based on historical data, market trends, and relevant financial metrics? <br>\n",
    "<span style=\"color:green\">Inferential Question: </span> How much of an impact does each financial metric (eg. earnings per share, price-to-earnings ratio, dividend yield, etc.) have on the stock price?"
   ]
  },
  {
   "cell_type": "markdown",
   "id": "fecd8393",
   "metadata": {},
   "source": [
    "<b>2. Search and locate a dataset that is relevant to the question(s) you created in the previous step. You may search repositories such as Data.gov, UCI Machine Learning, Kaggle, or Scikit-Learn. Find a dataset with no less than 10 variables and 10,000 observations, mostly quantitative.</b>"
   ]
  },
  {
   "cell_type": "markdown",
   "id": "6a7e80f0",
   "metadata": {},
   "source": [
    "<b>Dataset chosen:</b> <a href=\"https://www.kaggle.com/datasets/suyashlakhani/apple-stock-prices-20152020\">Apple Stock Prices (2015-2020) | Kaggle</a>\n",
    "\n",
    "This dataset contains daily Apple stock prices and other relevant financial metrics for the company from May 2015 to May 2020, and is thus useful for time-series forecasting. "
   ]
  },
  {
   "cell_type": "code",
   "execution_count": 21,
   "id": "b214dc3d",
   "metadata": {
    "scrolled": true
   },
   "outputs": [
    {
     "data": {
      "text/html": [
       "<div>\n",
       "<style scoped>\n",
       "    .dataframe tbody tr th:only-of-type {\n",
       "        vertical-align: middle;\n",
       "    }\n",
       "\n",
       "    .dataframe tbody tr th {\n",
       "        vertical-align: top;\n",
       "    }\n",
       "\n",
       "    .dataframe thead th {\n",
       "        text-align: right;\n",
       "    }\n",
       "</style>\n",
       "<table border=\"1\" class=\"dataframe\">\n",
       "  <thead>\n",
       "    <tr style=\"text-align: right;\">\n",
       "      <th></th>\n",
       "      <th>symbol</th>\n",
       "      <th>date</th>\n",
       "      <th>close</th>\n",
       "      <th>high</th>\n",
       "      <th>low</th>\n",
       "      <th>open</th>\n",
       "      <th>volume</th>\n",
       "      <th>adjClose</th>\n",
       "      <th>adjHigh</th>\n",
       "      <th>adjLow</th>\n",
       "      <th>adjOpen</th>\n",
       "      <th>adjVolume</th>\n",
       "      <th>divCash</th>\n",
       "      <th>splitFactor</th>\n",
       "    </tr>\n",
       "  </thead>\n",
       "  <tbody>\n",
       "    <tr>\n",
       "      <th>561</th>\n",
       "      <td>AAPL</td>\n",
       "      <td>2017-08-16 00:00:00+00:00</td>\n",
       "      <td>160.95</td>\n",
       "      <td>162.51</td>\n",
       "      <td>160.150</td>\n",
       "      <td>161.94</td>\n",
       "      <td>27321761</td>\n",
       "      <td>154.872237</td>\n",
       "      <td>156.373329</td>\n",
       "      <td>154.102447</td>\n",
       "      <td>155.824853</td>\n",
       "      <td>27321761</td>\n",
       "      <td>0.0</td>\n",
       "      <td>1.0</td>\n",
       "    </tr>\n",
       "    <tr>\n",
       "      <th>101</th>\n",
       "      <td>AAPL</td>\n",
       "      <td>2015-10-19 00:00:00+00:00</td>\n",
       "      <td>111.73</td>\n",
       "      <td>111.75</td>\n",
       "      <td>110.110</td>\n",
       "      <td>110.80</td>\n",
       "      <td>29759153</td>\n",
       "      <td>103.426850</td>\n",
       "      <td>103.445364</td>\n",
       "      <td>101.927240</td>\n",
       "      <td>102.565963</td>\n",
       "      <td>29759153</td>\n",
       "      <td>0.0</td>\n",
       "      <td>1.0</td>\n",
       "    </tr>\n",
       "    <tr>\n",
       "      <th>51</th>\n",
       "      <td>AAPL</td>\n",
       "      <td>2015-08-07 00:00:00+00:00</td>\n",
       "      <td>115.52</td>\n",
       "      <td>116.25</td>\n",
       "      <td>114.500</td>\n",
       "      <td>114.58</td>\n",
       "      <td>38670405</td>\n",
       "      <td>106.935199</td>\n",
       "      <td>107.610949</td>\n",
       "      <td>105.990999</td>\n",
       "      <td>106.065054</td>\n",
       "      <td>38670405</td>\n",
       "      <td>0.0</td>\n",
       "      <td>1.0</td>\n",
       "    </tr>\n",
       "    <tr>\n",
       "      <th>63</th>\n",
       "      <td>AAPL</td>\n",
       "      <td>2015-08-25 00:00:00+00:00</td>\n",
       "      <td>103.74</td>\n",
       "      <td>111.11</td>\n",
       "      <td>103.500</td>\n",
       "      <td>111.11</td>\n",
       "      <td>103601599</td>\n",
       "      <td>96.030623</td>\n",
       "      <td>102.852925</td>\n",
       "      <td>95.808458</td>\n",
       "      <td>102.852925</td>\n",
       "      <td>103601599</td>\n",
       "      <td>0.0</td>\n",
       "      <td>1.0</td>\n",
       "    </tr>\n",
       "    <tr>\n",
       "      <th>1073</th>\n",
       "      <td>AAPL</td>\n",
       "      <td>2019-08-29 00:00:00+00:00</td>\n",
       "      <td>209.01</td>\n",
       "      <td>209.32</td>\n",
       "      <td>206.655</td>\n",
       "      <td>208.50</td>\n",
       "      <td>21007652</td>\n",
       "      <td>207.343067</td>\n",
       "      <td>207.650595</td>\n",
       "      <td>205.006849</td>\n",
       "      <td>206.837135</td>\n",
       "      <td>21007652</td>\n",
       "      <td>0.0</td>\n",
       "      <td>1.0</td>\n",
       "    </tr>\n",
       "  </tbody>\n",
       "</table>\n",
       "</div>"
      ],
      "text/plain": [
       "     symbol                       date   close    high      low    open  \\\n",
       "561    AAPL  2017-08-16 00:00:00+00:00  160.95  162.51  160.150  161.94   \n",
       "101    AAPL  2015-10-19 00:00:00+00:00  111.73  111.75  110.110  110.80   \n",
       "51     AAPL  2015-08-07 00:00:00+00:00  115.52  116.25  114.500  114.58   \n",
       "63     AAPL  2015-08-25 00:00:00+00:00  103.74  111.11  103.500  111.11   \n",
       "1073   AAPL  2019-08-29 00:00:00+00:00  209.01  209.32  206.655  208.50   \n",
       "\n",
       "         volume    adjClose     adjHigh      adjLow     adjOpen  adjVolume  \\\n",
       "561    27321761  154.872237  156.373329  154.102447  155.824853   27321761   \n",
       "101    29759153  103.426850  103.445364  101.927240  102.565963   29759153   \n",
       "51     38670405  106.935199  107.610949  105.990999  106.065054   38670405   \n",
       "63    103601599   96.030623  102.852925   95.808458  102.852925  103601599   \n",
       "1073   21007652  207.343067  207.650595  205.006849  206.837135   21007652   \n",
       "\n",
       "      divCash  splitFactor  \n",
       "561       0.0          1.0  \n",
       "101       0.0          1.0  \n",
       "51        0.0          1.0  \n",
       "63        0.0          1.0  \n",
       "1073      0.0          1.0  "
      ]
     },
     "execution_count": 21,
     "metadata": {},
     "output_type": "execute_result"
    }
   ],
   "source": [
    "import pandas as pd\n",
    "\n",
    "# Load data\n",
    "df = pd.read_csv(\"AAPL.csv\")\n",
    "\n",
    "# Drop redundant columns\n",
    "df = df.drop(columns={\"Unnamed: 0\"})\n",
    "\n",
    "# View data\n",
    "df.sample(5, random_state=42)"
   ]
  },
  {
   "cell_type": "markdown",
   "id": "0e7b9fc7",
   "metadata": {},
   "source": [
    "<b>Dataset info (from Kaggle page):</b> <br>\n",
    "symbol - Apple Stock <br>\n",
    "close - Closing price <br>\n",
    "high - Highest price of the day <br>\n",
    "low - Lowest Price of the day <br>\n",
    "open - Opening price of the day <br>\n",
    "volume - Volume of stock traded <br>\n",
    "adjClose - Closing stock price in relation to other stock attributes/actions <br>\n",
    "adjHigh - Highest stock price in relation to other stock attributes/actions <br>\n",
    "adjOpen - Opening Stock price in relation to other stock attributes/actions <br>\n",
    "adjVolume - Trading volume in relation to other stock attributes/actions <br>\n",
    "divCash - Cash dividend <br>\n",
    "splitFactor - Stock split"
   ]
  },
  {
   "cell_type": "markdown",
   "id": "7635288a",
   "metadata": {},
   "source": [
    "<b>3. Discuss the origin of the data and assess whether it was obtained in an ethical manner.</b>\n",
    "\n"
   ]
  },
  {
   "cell_type": "markdown",
   "id": "6d392789",
   "metadata": {},
   "source": [
    "The Kaggle page for this dataset is lacking in information about how the data was obtained, but considering that Apple is one of the most valuable companies currently, stock prices for the company are publicly available and easily obtained. Potential sources include stock market databases, financial data providers, or financial news websites. As a publicly-traded company, Apple is required to disclose its financial information, including stock prices, to the Securities and Exchange Commission (SEC), which then trickles down to public data sources like Kaggle. Because this data was publicly available, the person who posted it on Kaggle was simply redistributing it, and thus their acquisition was well within ethical bounds. "
   ]
  },
  {
   "cell_type": "markdown",
   "id": "21767606",
   "metadata": {},
   "source": [
    "<b>4. Explain your dataset's variables. List your dependent and independent variables, and identify which scale is used to measure each variable (interval, ordinal, or nominal). Hint: interval is the most appropriate scale for regression analysis.</b>\n",
    "\n"
   ]
  },
  {
   "cell_type": "code",
   "execution_count": 22,
   "id": "e84fcc52",
   "metadata": {},
   "outputs": [
    {
     "data": {
      "text/html": [
       "<div>\n",
       "<style scoped>\n",
       "    .dataframe tbody tr th:only-of-type {\n",
       "        vertical-align: middle;\n",
       "    }\n",
       "\n",
       "    .dataframe tbody tr th {\n",
       "        vertical-align: top;\n",
       "    }\n",
       "\n",
       "    .dataframe thead th {\n",
       "        text-align: right;\n",
       "    }\n",
       "</style>\n",
       "<table border=\"1\" class=\"dataframe\">\n",
       "  <thead>\n",
       "    <tr style=\"text-align: right;\">\n",
       "      <th></th>\n",
       "      <th>symbol</th>\n",
       "      <th>date</th>\n",
       "      <th>close</th>\n",
       "      <th>high</th>\n",
       "      <th>low</th>\n",
       "      <th>open</th>\n",
       "      <th>volume</th>\n",
       "      <th>adjClose</th>\n",
       "      <th>adjHigh</th>\n",
       "      <th>adjLow</th>\n",
       "      <th>adjOpen</th>\n",
       "      <th>adjVolume</th>\n",
       "      <th>divCash</th>\n",
       "      <th>splitFactor</th>\n",
       "    </tr>\n",
       "  </thead>\n",
       "  <tbody>\n",
       "    <tr>\n",
       "      <th>0</th>\n",
       "      <td>AAPL</td>\n",
       "      <td>2015-05-27 00:00:00+00:00</td>\n",
       "      <td>132.045</td>\n",
       "      <td>132.26</td>\n",
       "      <td>130.05</td>\n",
       "      <td>130.34</td>\n",
       "      <td>45833246</td>\n",
       "      <td>121.682558</td>\n",
       "      <td>121.880685</td>\n",
       "      <td>119.844118</td>\n",
       "      <td>120.11136</td>\n",
       "      <td>45833246</td>\n",
       "      <td>0.0</td>\n",
       "      <td>1.0</td>\n",
       "    </tr>\n",
       "  </tbody>\n",
       "</table>\n",
       "</div>"
      ],
      "text/plain": [
       "  symbol                       date    close    high     low    open  \\\n",
       "0   AAPL  2015-05-27 00:00:00+00:00  132.045  132.26  130.05  130.34   \n",
       "\n",
       "     volume    adjClose     adjHigh      adjLow    adjOpen  adjVolume  \\\n",
       "0  45833246  121.682558  121.880685  119.844118  120.11136   45833246   \n",
       "\n",
       "   divCash  splitFactor  \n",
       "0      0.0          1.0  "
      ]
     },
     "execution_count": 22,
     "metadata": {},
     "output_type": "execute_result"
    }
   ],
   "source": [
    "df.head(1)"
   ]
  },
  {
   "cell_type": "code",
   "execution_count": 23,
   "id": "36104fbb",
   "metadata": {},
   "outputs": [
    {
     "name": "stdout",
     "output_type": "stream",
     "text": [
      "Values for \"divCash\"\n",
      "divCash  0.00  0.57  0.63  0.73  0.77  0.52  0.82\n",
      "count    1238     4     4     4     4     3     1\n",
      "\n",
      "Values for \"splitFactor\"\n",
      "splitFactor   1.0\n",
      "count        1258\n"
     ]
    }
   ],
   "source": [
    "# Check values of \"divCash\" and \"splitFactor\" to determine which kind of scale they use\n",
    "print(\"Values for \\\"divCash\\\"\")\n",
    "print(df[\"divCash\"].value_counts().to_frame().transpose())\n",
    "print()\n",
    "print(\"Values for \\\"splitFactor\\\"\")\n",
    "print(df[\"splitFactor\"].value_counts().to_frame().transpose())"
   ]
  },
  {
   "cell_type": "markdown",
   "id": "62946e11",
   "metadata": {},
   "source": [
    "Interval: numeric variables, ordinal: categorical variables with a clear order/ranking, nominal: categorical variables without a clear order/ranking. \n",
    "\n",
    "* <b>Dependent Variable:</b> `adjClose` (scale used: interval)\n",
    "* <b>Independent Variable:</b> `symbol` (scale used: nominal)\n",
    "* <b>Independent Variable:</b> `date` (scale used: interval)\n",
    "* <b>Independent Variable:</b> `close` (scale used: interval)\n",
    "* <b>Independent Variable:</b> `high` (scale used: interval)\n",
    "* <b>Independent Variable:</b> `low` (scale used: interval)\n",
    "* <b>Independent Variable:</b> `open` (scale used: interval)\n",
    "* <b>Independent Variable:</b> `volume` (scale used: interval)\n",
    "* <b>Independent Variable:</b> `adjHigh` (scale used: interval)\n",
    "* <b>Independent Variable:</b> `adjLow` (scale used: interval)\n",
    "* <b>Independent Variable:</b> `adjOpen` (scale used: interval)\n",
    "* <b>Independent Variable:</b> `adjVolume` (scale used: interval)\n",
    "* <b>Independent Variable:</b> `divCash` (scale used: interval)\n",
    "* <b>Independent Variable:</b> `splitFactor` (scale used: nominal)"
   ]
  }
 ],
 "metadata": {
  "kernelspec": {
   "display_name": "Python 3 (ipykernel)",
   "language": "python",
   "name": "python3"
  },
  "language_info": {
   "codemirror_mode": {
    "name": "ipython",
    "version": 3
   },
   "file_extension": ".py",
   "mimetype": "text/x-python",
   "name": "python",
   "nbconvert_exporter": "python",
   "pygments_lexer": "ipython3",
   "version": "3.11.5"
  }
 },
 "nbformat": 4,
 "nbformat_minor": 5
}
